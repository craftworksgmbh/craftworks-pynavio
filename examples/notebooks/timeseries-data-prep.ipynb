{
 "cells": [
  {
   "cell_type": "markdown",
   "metadata": {},
   "source": [
    "# Data Prep for Activity Recognition (Timeseries) Model"
   ]
  },
  {
   "cell_type": "code",
   "execution_count": 1,
   "metadata": {},
   "outputs": [],
   "source": [
    "from pathlib import Path\n",
    "import pandas as pd"
   ]
  },
  {
   "cell_type": "code",
   "execution_count": 2,
   "metadata": {},
   "outputs": [
    {
     "name": "stdout",
     "output_type": "stream",
     "text": [
      "activity_labels.txt  features_info.txt  \u001b[0m\u001b[01;34mRawData\u001b[0m/    \u001b[01;34mTest\u001b[0m/\r\n",
      "data_prep.ipynb      features.txt       README.txt  \u001b[01;34mTrain\u001b[0m/\r\n"
     ]
    }
   ],
   "source": [
    "ls"
   ]
  },
  {
   "cell_type": "code",
   "execution_count": 3,
   "metadata": {},
   "outputs": [
    {
     "data": {
      "text/plain": [
       "[PosixPath('RawData/gyro_exp13_user07.txt'),\n",
       " PosixPath('RawData/acc_exp32_user16.txt'),\n",
       " PosixPath('RawData/gyro_exp31_user15.txt'),\n",
       " PosixPath('RawData/gyro_exp38_user19.txt'),\n",
       " PosixPath('RawData/gyro_exp26_user13.txt')]"
      ]
     },
     "execution_count": 3,
     "metadata": {},
     "output_type": "execute_result"
    }
   ],
   "source": [
    "files = [*Path('RawData').glob('*_*.txt')]\n",
    "files[:5]"
   ]
  },
  {
   "cell_type": "code",
   "execution_count": 4,
   "metadata": {},
   "outputs": [
    {
     "data": {
      "text/html": [
       "<div>\n",
       "<style scoped>\n",
       "    .dataframe tbody tr th:only-of-type {\n",
       "        vertical-align: middle;\n",
       "    }\n",
       "\n",
       "    .dataframe tbody tr th {\n",
       "        vertical-align: top;\n",
       "    }\n",
       "\n",
       "    .dataframe thead th {\n",
       "        text-align: right;\n",
       "    }\n",
       "</style>\n",
       "<table border=\"1\" class=\"dataframe\">\n",
       "  <thead>\n",
       "    <tr style=\"text-align: right;\">\n",
       "      <th></th>\n",
       "      <th>sensor</th>\n",
       "      <th>experiment</th>\n",
       "      <th>user</th>\n",
       "      <th>path</th>\n",
       "    </tr>\n",
       "  </thead>\n",
       "  <tbody>\n",
       "    <tr>\n",
       "      <th>0</th>\n",
       "      <td>gyro</td>\n",
       "      <td>13</td>\n",
       "      <td>07</td>\n",
       "      <td>RawData/gyro_exp13_user07.txt</td>\n",
       "    </tr>\n",
       "    <tr>\n",
       "      <th>1</th>\n",
       "      <td>acc</td>\n",
       "      <td>32</td>\n",
       "      <td>16</td>\n",
       "      <td>RawData/acc_exp32_user16.txt</td>\n",
       "    </tr>\n",
       "    <tr>\n",
       "      <th>2</th>\n",
       "      <td>gyro</td>\n",
       "      <td>31</td>\n",
       "      <td>15</td>\n",
       "      <td>RawData/gyro_exp31_user15.txt</td>\n",
       "    </tr>\n",
       "    <tr>\n",
       "      <th>3</th>\n",
       "      <td>gyro</td>\n",
       "      <td>38</td>\n",
       "      <td>19</td>\n",
       "      <td>RawData/gyro_exp38_user19.txt</td>\n",
       "    </tr>\n",
       "    <tr>\n",
       "      <th>4</th>\n",
       "      <td>gyro</td>\n",
       "      <td>26</td>\n",
       "      <td>13</td>\n",
       "      <td>RawData/gyro_exp26_user13.txt</td>\n",
       "    </tr>\n",
       "  </tbody>\n",
       "</table>\n",
       "</div>"
      ],
      "text/plain": [
       "  sensor experiment user                           path\n",
       "0   gyro         13   07  RawData/gyro_exp13_user07.txt\n",
       "1    acc         32   16   RawData/acc_exp32_user16.txt\n",
       "2   gyro         31   15  RawData/gyro_exp31_user15.txt\n",
       "3   gyro         38   19  RawData/gyro_exp38_user19.txt\n",
       "4   gyro         26   13  RawData/gyro_exp26_user13.txt"
      ]
     },
     "execution_count": 4,
     "metadata": {},
     "output_type": "execute_result"
    }
   ],
   "source": [
    "meta = pd.Series(files) \\\n",
    "    .astype('str') \\\n",
    "    .str \\\n",
    "    .extract('RawData/(.+)_exp(\\d+)_user(\\d+).txt') \\\n",
    "    .rename(columns={0: 'sensor', 1: 'experiment', 2: 'user'}) \\\n",
    "    .join(pd.Series(files).rename('path'))\n",
    "\n",
    "meta.head()"
   ]
  },
  {
   "cell_type": "code",
   "execution_count": 5,
   "metadata": {},
   "outputs": [
    {
     "data": {
      "text/html": [
       "<div>\n",
       "<style scoped>\n",
       "    .dataframe tbody tr th:only-of-type {\n",
       "        vertical-align: middle;\n",
       "    }\n",
       "\n",
       "    .dataframe tbody tr th {\n",
       "        vertical-align: top;\n",
       "    }\n",
       "\n",
       "    .dataframe thead th {\n",
       "        text-align: right;\n",
       "    }\n",
       "</style>\n",
       "<table border=\"1\" class=\"dataframe\">\n",
       "  <thead>\n",
       "    <tr style=\"text-align: right;\">\n",
       "      <th>variable</th>\n",
       "      <th>index</th>\n",
       "      <th>experiment</th>\n",
       "      <th>user</th>\n",
       "      <th>acc_0</th>\n",
       "      <th>acc_1</th>\n",
       "      <th>acc_2</th>\n",
       "      <th>gyro_0</th>\n",
       "      <th>gyro_1</th>\n",
       "      <th>gyro_2</th>\n",
       "    </tr>\n",
       "  </thead>\n",
       "  <tbody>\n",
       "    <tr>\n",
       "      <th>0</th>\n",
       "      <td>0</td>\n",
       "      <td>01</td>\n",
       "      <td>01</td>\n",
       "      <td>0.918056</td>\n",
       "      <td>-0.112500</td>\n",
       "      <td>0.509722</td>\n",
       "      <td>-0.054978</td>\n",
       "      <td>-0.069639</td>\n",
       "      <td>-0.030849</td>\n",
       "    </tr>\n",
       "    <tr>\n",
       "      <th>1</th>\n",
       "      <td>0</td>\n",
       "      <td>02</td>\n",
       "      <td>01</td>\n",
       "      <td>0.443056</td>\n",
       "      <td>0.037500</td>\n",
       "      <td>0.888889</td>\n",
       "      <td>-0.036957</td>\n",
       "      <td>0.044593</td>\n",
       "      <td>-0.015272</td>\n",
       "    </tr>\n",
       "    <tr>\n",
       "      <th>2</th>\n",
       "      <td>0</td>\n",
       "      <td>03</td>\n",
       "      <td>02</td>\n",
       "      <td>0.413889</td>\n",
       "      <td>-0.015278</td>\n",
       "      <td>0.922222</td>\n",
       "      <td>-0.078802</td>\n",
       "      <td>-0.135918</td>\n",
       "      <td>-0.042455</td>\n",
       "    </tr>\n",
       "    <tr>\n",
       "      <th>3</th>\n",
       "      <td>0</td>\n",
       "      <td>04</td>\n",
       "      <td>02</td>\n",
       "      <td>0.295833</td>\n",
       "      <td>0.041667</td>\n",
       "      <td>0.965278</td>\n",
       "      <td>0.007941</td>\n",
       "      <td>0.076664</td>\n",
       "      <td>0.050702</td>\n",
       "    </tr>\n",
       "    <tr>\n",
       "      <th>4</th>\n",
       "      <td>0</td>\n",
       "      <td>05</td>\n",
       "      <td>03</td>\n",
       "      <td>0.500000</td>\n",
       "      <td>-0.006944</td>\n",
       "      <td>0.856944</td>\n",
       "      <td>0.054978</td>\n",
       "      <td>-0.083383</td>\n",
       "      <td>0.044899</td>\n",
       "    </tr>\n",
       "  </tbody>\n",
       "</table>\n",
       "</div>"
      ],
      "text/plain": [
       "variable  index experiment user     acc_0     acc_1     acc_2    gyro_0  \\\n",
       "0             0         01   01  0.918056 -0.112500  0.509722 -0.054978   \n",
       "1             0         02   01  0.443056  0.037500  0.888889 -0.036957   \n",
       "2             0         03   02  0.413889 -0.015278  0.922222 -0.078802   \n",
       "3             0         04   02  0.295833  0.041667  0.965278  0.007941   \n",
       "4             0         05   03  0.500000 -0.006944  0.856944  0.054978   \n",
       "\n",
       "variable    gyro_1    gyro_2  \n",
       "0        -0.069639 -0.030849  \n",
       "1         0.044593 -0.015272  \n",
       "2        -0.135918 -0.042455  \n",
       "3         0.076664  0.050702  \n",
       "4        -0.083383  0.044899  "
      ]
     },
     "execution_count": 5,
     "metadata": {},
     "output_type": "execute_result"
    }
   ],
   "source": [
    "data = pd.concat([\n",
    "    pd.read_csv(row.path, sep=' ', header=None).assign(**row.to_dict())\n",
    "        .reset_index()\n",
    "    for _, row in meta.iterrows()\n",
    "]).drop('path', axis=1)\n",
    "\n",
    "data = data.melt(id_vars=['index', 'experiment', 'user', 'sensor'])\n",
    "data['variable'] = data.sensor + '_' + data.variable.astype(str)\n",
    "data = data.pivot(index=['index', 'experiment', 'user'], \n",
    "                  columns='variable', values='value')\n",
    "\n",
    "data = data.reset_index()\n",
    "\n",
    "data.head(5)"
   ]
  },
  {
   "cell_type": "code",
   "execution_count": 6,
   "metadata": {},
   "outputs": [
    {
     "data": {
      "text/html": [
       "<div>\n",
       "<style scoped>\n",
       "    .dataframe tbody tr th:only-of-type {\n",
       "        vertical-align: middle;\n",
       "    }\n",
       "\n",
       "    .dataframe tbody tr th {\n",
       "        vertical-align: top;\n",
       "    }\n",
       "\n",
       "    .dataframe thead th {\n",
       "        text-align: right;\n",
       "    }\n",
       "</style>\n",
       "<table border=\"1\" class=\"dataframe\">\n",
       "  <thead>\n",
       "    <tr style=\"text-align: right;\">\n",
       "      <th></th>\n",
       "      <th>experiment</th>\n",
       "      <th>user</th>\n",
       "      <th>activity_index</th>\n",
       "      <th>index</th>\n",
       "    </tr>\n",
       "  </thead>\n",
       "  <tbody>\n",
       "    <tr>\n",
       "      <th>0</th>\n",
       "      <td>1</td>\n",
       "      <td>1</td>\n",
       "      <td>5</td>\n",
       "      <td>250</td>\n",
       "    </tr>\n",
       "    <tr>\n",
       "      <th>1</th>\n",
       "      <td>1</td>\n",
       "      <td>1</td>\n",
       "      <td>7</td>\n",
       "      <td>1233</td>\n",
       "    </tr>\n",
       "    <tr>\n",
       "      <th>2</th>\n",
       "      <td>1</td>\n",
       "      <td>1</td>\n",
       "      <td>4</td>\n",
       "      <td>1393</td>\n",
       "    </tr>\n",
       "    <tr>\n",
       "      <th>3</th>\n",
       "      <td>1</td>\n",
       "      <td>1</td>\n",
       "      <td>8</td>\n",
       "      <td>2195</td>\n",
       "    </tr>\n",
       "    <tr>\n",
       "      <th>4</th>\n",
       "      <td>1</td>\n",
       "      <td>1</td>\n",
       "      <td>5</td>\n",
       "      <td>2360</td>\n",
       "    </tr>\n",
       "  </tbody>\n",
       "</table>\n",
       "</div>"
      ],
      "text/plain": [
       "   experiment  user  activity_index  index\n",
       "0           1     1               5    250\n",
       "1           1     1               7   1233\n",
       "2           1     1               4   1393\n",
       "3           1     1               8   2195\n",
       "4           1     1               5   2360"
      ]
     },
     "execution_count": 6,
     "metadata": {},
     "output_type": "execute_result"
    }
   ],
   "source": [
    "activity = pd.read_csv('RawData/labels.txt', sep=' ', header=None) \\\n",
    "    .rename(columns=lambda i: ['experiment', 'user', 'activity_index', 'start', 'end'][i])\n",
    "\n",
    "activity = activity.melt(id_vars=['experiment', 'user', 'activity_index'], \n",
    "                         value_name='index')\n",
    "\n",
    "activity.drop('variable', axis=1, inplace=True)\n",
    "\n",
    "activity.head()"
   ]
  },
  {
   "cell_type": "code",
   "execution_count": 7,
   "metadata": {},
   "outputs": [
    {
     "data": {
      "text/html": [
       "<div>\n",
       "<style scoped>\n",
       "    .dataframe tbody tr th:only-of-type {\n",
       "        vertical-align: middle;\n",
       "    }\n",
       "\n",
       "    .dataframe tbody tr th {\n",
       "        vertical-align: top;\n",
       "    }\n",
       "\n",
       "    .dataframe thead th {\n",
       "        text-align: right;\n",
       "    }\n",
       "</style>\n",
       "<table border=\"1\" class=\"dataframe\">\n",
       "  <thead>\n",
       "    <tr style=\"text-align: right;\">\n",
       "      <th></th>\n",
       "      <th>activity_index</th>\n",
       "      <th>activity</th>\n",
       "    </tr>\n",
       "  </thead>\n",
       "  <tbody>\n",
       "    <tr>\n",
       "      <th>0</th>\n",
       "      <td>1</td>\n",
       "      <td>WALKING</td>\n",
       "    </tr>\n",
       "    <tr>\n",
       "      <th>1</th>\n",
       "      <td>2</td>\n",
       "      <td>WALKING_UPSTAIRS</td>\n",
       "    </tr>\n",
       "    <tr>\n",
       "      <th>2</th>\n",
       "      <td>3</td>\n",
       "      <td>WALKING_DOWNSTAIRS</td>\n",
       "    </tr>\n",
       "    <tr>\n",
       "      <th>3</th>\n",
       "      <td>4</td>\n",
       "      <td>SITTING</td>\n",
       "    </tr>\n",
       "    <tr>\n",
       "      <th>4</th>\n",
       "      <td>5</td>\n",
       "      <td>STANDING</td>\n",
       "    </tr>\n",
       "    <tr>\n",
       "      <th>5</th>\n",
       "      <td>6</td>\n",
       "      <td>LAYING</td>\n",
       "    </tr>\n",
       "    <tr>\n",
       "      <th>6</th>\n",
       "      <td>7</td>\n",
       "      <td>STAND_TO_SIT</td>\n",
       "    </tr>\n",
       "    <tr>\n",
       "      <th>7</th>\n",
       "      <td>8</td>\n",
       "      <td>SIT_TO_STAND</td>\n",
       "    </tr>\n",
       "    <tr>\n",
       "      <th>8</th>\n",
       "      <td>9</td>\n",
       "      <td>SIT_TO_LIE</td>\n",
       "    </tr>\n",
       "    <tr>\n",
       "      <th>9</th>\n",
       "      <td>10</td>\n",
       "      <td>LIE_TO_SIT</td>\n",
       "    </tr>\n",
       "    <tr>\n",
       "      <th>10</th>\n",
       "      <td>11</td>\n",
       "      <td>STAND_TO_LIE</td>\n",
       "    </tr>\n",
       "    <tr>\n",
       "      <th>11</th>\n",
       "      <td>12</td>\n",
       "      <td>LIE_TO_STAND</td>\n",
       "    </tr>\n",
       "  </tbody>\n",
       "</table>\n",
       "</div>"
      ],
      "text/plain": [
       "    activity_index            activity\n",
       "0                1             WALKING\n",
       "1                2    WALKING_UPSTAIRS\n",
       "2                3  WALKING_DOWNSTAIRS\n",
       "3                4             SITTING\n",
       "4                5            STANDING\n",
       "5                6              LAYING\n",
       "6                7        STAND_TO_SIT\n",
       "7                8        SIT_TO_STAND\n",
       "8                9          SIT_TO_LIE\n",
       "9               10          LIE_TO_SIT\n",
       "10              11        STAND_TO_LIE\n",
       "11              12        LIE_TO_STAND"
      ]
     },
     "execution_count": 7,
     "metadata": {},
     "output_type": "execute_result"
    }
   ],
   "source": [
    "with open('activity_labels.txt', 'r') as file:\n",
    "    labels = [*filter(lambda x: x, map(str.strip, file.read().split('\\n')))]\n",
    "    \n",
    "labels = pd.DataFrame(\n",
    "    [*map(str.split, labels)],\n",
    "    columns=['activity_index', 'activity']) \\\n",
    "    .astype({'activity_index': int})\n",
    "\n",
    "labels"
   ]
  },
  {
   "cell_type": "code",
   "execution_count": 8,
   "metadata": {},
   "outputs": [
    {
     "data": {
      "text/html": [
       "<div>\n",
       "<style scoped>\n",
       "    .dataframe tbody tr th:only-of-type {\n",
       "        vertical-align: middle;\n",
       "    }\n",
       "\n",
       "    .dataframe tbody tr th {\n",
       "        vertical-align: top;\n",
       "    }\n",
       "\n",
       "    .dataframe thead th {\n",
       "        text-align: right;\n",
       "    }\n",
       "</style>\n",
       "<table border=\"1\" class=\"dataframe\">\n",
       "  <thead>\n",
       "    <tr style=\"text-align: right;\">\n",
       "      <th></th>\n",
       "      <th>experiment</th>\n",
       "      <th>user</th>\n",
       "      <th>index</th>\n",
       "      <th>activity</th>\n",
       "    </tr>\n",
       "  </thead>\n",
       "  <tbody>\n",
       "    <tr>\n",
       "      <th>0</th>\n",
       "      <td>1</td>\n",
       "      <td>1</td>\n",
       "      <td>250</td>\n",
       "      <td>STANDING</td>\n",
       "    </tr>\n",
       "    <tr>\n",
       "      <th>1</th>\n",
       "      <td>1</td>\n",
       "      <td>1</td>\n",
       "      <td>2360</td>\n",
       "      <td>STANDING</td>\n",
       "    </tr>\n",
       "    <tr>\n",
       "      <th>2</th>\n",
       "      <td>2</td>\n",
       "      <td>1</td>\n",
       "      <td>251</td>\n",
       "      <td>STANDING</td>\n",
       "    </tr>\n",
       "    <tr>\n",
       "      <th>3</th>\n",
       "      <td>2</td>\n",
       "      <td>1</td>\n",
       "      <td>2378</td>\n",
       "      <td>STANDING</td>\n",
       "    </tr>\n",
       "    <tr>\n",
       "      <th>4</th>\n",
       "      <td>3</td>\n",
       "      <td>2</td>\n",
       "      <td>298</td>\n",
       "      <td>STANDING</td>\n",
       "    </tr>\n",
       "  </tbody>\n",
       "</table>\n",
       "</div>"
      ],
      "text/plain": [
       "   experiment  user  index  activity\n",
       "0           1     1    250  STANDING\n",
       "1           1     1   2360  STANDING\n",
       "2           2     1    251  STANDING\n",
       "3           2     1   2378  STANDING\n",
       "4           3     2    298  STANDING"
      ]
     },
     "execution_count": 8,
     "metadata": {},
     "output_type": "execute_result"
    }
   ],
   "source": [
    "activity = activity.merge(labels).drop('activity_index', axis=1)\n",
    "activity.head()"
   ]
  },
  {
   "cell_type": "code",
   "execution_count": 9,
   "metadata": {},
   "outputs": [],
   "source": [
    "data = data.astype({'experiment': int, 'user': int}) \\\n",
    "    .merge(activity, how='left')"
   ]
  },
  {
   "cell_type": "code",
   "execution_count": 10,
   "metadata": {},
   "outputs": [],
   "source": [
    "data = data.sort_values(by=['user', 'experiment', 'index'])"
   ]
  },
  {
   "cell_type": "code",
   "execution_count": 11,
   "metadata": {},
   "outputs": [],
   "source": [
    "grp = data.groupby(['user', 'experiment'])\n",
    "fwd_act = grp.activity.ffill()\n",
    "bwd_act = grp.activity.bfill()\n",
    "data['activity'] = fwd_act.loc[fwd_act == bwd_act]"
   ]
  },
  {
   "cell_type": "code",
   "execution_count": 12,
   "metadata": {},
   "outputs": [],
   "source": [
    "data['Time'] = pd.Timestamp('2015-07-29') + pd.to_timedelta(data['index'] / 50, unit='s')\n",
    "data.drop('index', axis=1, inplace=True)"
   ]
  },
  {
   "cell_type": "code",
   "execution_count": 13,
   "metadata": {},
   "outputs": [],
   "source": [
    "assert not data[['acc_0', 'acc_2', 'acc_2', 'gyro_0', 'gyro_2', 'gyro_2']].isna().any().any()"
   ]
  },
  {
   "cell_type": "code",
   "execution_count": 14,
   "metadata": {},
   "outputs": [
    {
     "data": {
      "text/html": [
       "<div>\n",
       "<style scoped>\n",
       "    .dataframe tbody tr th:only-of-type {\n",
       "        vertical-align: middle;\n",
       "    }\n",
       "\n",
       "    .dataframe tbody tr th {\n",
       "        vertical-align: top;\n",
       "    }\n",
       "\n",
       "    .dataframe thead th {\n",
       "        text-align: right;\n",
       "    }\n",
       "</style>\n",
       "<table border=\"1\" class=\"dataframe\">\n",
       "  <thead>\n",
       "    <tr style=\"text-align: right;\">\n",
       "      <th></th>\n",
       "      <th>experiment</th>\n",
       "      <th>user</th>\n",
       "      <th>acc_0</th>\n",
       "      <th>acc_1</th>\n",
       "      <th>acc_2</th>\n",
       "      <th>gyro_0</th>\n",
       "      <th>gyro_1</th>\n",
       "      <th>gyro_2</th>\n",
       "      <th>activity</th>\n",
       "      <th>Time</th>\n",
       "    </tr>\n",
       "  </thead>\n",
       "  <tbody>\n",
       "    <tr>\n",
       "      <th>0</th>\n",
       "      <td>1</td>\n",
       "      <td>1</td>\n",
       "      <td>0.918056</td>\n",
       "      <td>-0.112500</td>\n",
       "      <td>0.509722</td>\n",
       "      <td>-0.054978</td>\n",
       "      <td>-0.069639</td>\n",
       "      <td>-0.030849</td>\n",
       "      <td>NaN</td>\n",
       "      <td>2015-07-29 00:00:00.000</td>\n",
       "    </tr>\n",
       "    <tr>\n",
       "      <th>61</th>\n",
       "      <td>1</td>\n",
       "      <td>1</td>\n",
       "      <td>0.911111</td>\n",
       "      <td>-0.093056</td>\n",
       "      <td>0.537500</td>\n",
       "      <td>-0.012523</td>\n",
       "      <td>0.019242</td>\n",
       "      <td>-0.038485</td>\n",
       "      <td>NaN</td>\n",
       "      <td>2015-07-29 00:00:00.020</td>\n",
       "    </tr>\n",
       "    <tr>\n",
       "      <th>122</th>\n",
       "      <td>1</td>\n",
       "      <td>1</td>\n",
       "      <td>0.881944</td>\n",
       "      <td>-0.086111</td>\n",
       "      <td>0.513889</td>\n",
       "      <td>-0.023518</td>\n",
       "      <td>0.276417</td>\n",
       "      <td>0.006414</td>\n",
       "      <td>NaN</td>\n",
       "      <td>2015-07-29 00:00:00.040</td>\n",
       "    </tr>\n",
       "    <tr>\n",
       "      <th>183</th>\n",
       "      <td>1</td>\n",
       "      <td>1</td>\n",
       "      <td>0.881944</td>\n",
       "      <td>-0.086111</td>\n",
       "      <td>0.513889</td>\n",
       "      <td>-0.093462</td>\n",
       "      <td>0.367741</td>\n",
       "      <td>0.001222</td>\n",
       "      <td>NaN</td>\n",
       "      <td>2015-07-29 00:00:00.060</td>\n",
       "    </tr>\n",
       "    <tr>\n",
       "      <th>244</th>\n",
       "      <td>1</td>\n",
       "      <td>1</td>\n",
       "      <td>0.879167</td>\n",
       "      <td>-0.100000</td>\n",
       "      <td>0.505556</td>\n",
       "      <td>-0.124311</td>\n",
       "      <td>0.476780</td>\n",
       "      <td>-0.022907</td>\n",
       "      <td>NaN</td>\n",
       "      <td>2015-07-29 00:00:00.080</td>\n",
       "    </tr>\n",
       "  </tbody>\n",
       "</table>\n",
       "</div>"
      ],
      "text/plain": [
       "     experiment  user     acc_0     acc_1     acc_2    gyro_0    gyro_1  \\\n",
       "0             1     1  0.918056 -0.112500  0.509722 -0.054978 -0.069639   \n",
       "61            1     1  0.911111 -0.093056  0.537500 -0.012523  0.019242   \n",
       "122           1     1  0.881944 -0.086111  0.513889 -0.023518  0.276417   \n",
       "183           1     1  0.881944 -0.086111  0.513889 -0.093462  0.367741   \n",
       "244           1     1  0.879167 -0.100000  0.505556 -0.124311  0.476780   \n",
       "\n",
       "       gyro_2 activity                    Time  \n",
       "0   -0.030849      NaN 2015-07-29 00:00:00.000  \n",
       "61  -0.038485      NaN 2015-07-29 00:00:00.020  \n",
       "122  0.006414      NaN 2015-07-29 00:00:00.040  \n",
       "183  0.001222      NaN 2015-07-29 00:00:00.060  \n",
       "244 -0.022907      NaN 2015-07-29 00:00:00.080  "
      ]
     },
     "execution_count": 14,
     "metadata": {},
     "output_type": "execute_result"
    }
   ],
   "source": [
    "data.head(5)"
   ]
  },
  {
   "cell_type": "code",
   "execution_count": 15,
   "metadata": {},
   "outputs": [
    {
     "data": {
      "text/plain": [
       "(1122772, 10)"
      ]
     },
     "execution_count": 15,
     "metadata": {},
     "output_type": "execute_result"
    }
   ],
   "source": [
    "data.shape"
   ]
  },
  {
   "cell_type": "code",
   "execution_count": 16,
   "metadata": {},
   "outputs": [],
   "source": [
    "data.to_csv('activity_recognition.csv', index=False)"
   ]
  },
  {
   "cell_type": "code",
   "execution_count": 17,
   "metadata": {},
   "outputs": [
    {
     "data": {
      "text/plain": [
       "641.76"
      ]
     },
     "execution_count": 17,
     "metadata": {},
     "output_type": "execute_result"
    }
   ],
   "source": [
    "(data.Time.max() - pd.Timestamp('2015-07-29')) / pd.Timedelta('1s')"
   ]
  }
 ],
 "metadata": {
  "kernelspec": {
   "display_name": "Python 3 (ipykernel)",
   "language": "python",
   "name": "python3"
  },
  "language_info": {
   "codemirror_mode": {
    "name": "ipython",
    "version": 3
   },
   "file_extension": ".py",
   "mimetype": "text/x-python",
   "name": "python",
   "nbconvert_exporter": "python",
   "pygments_lexer": "ipython3",
   "version": "3.9.12"
  }
 },
 "nbformat": 4,
 "nbformat_minor": 4
}
